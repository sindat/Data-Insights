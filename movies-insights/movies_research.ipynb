{
 "cells": [
  {
   "cell_type": "code",
   "execution_count": null,
   "id": "fac6884b",
   "metadata": {},
   "outputs": [],
   "source": [
    "import pandas as pd\n",
    "import numpy as np\n",
    "import seaborn as sns\n",
    "import matplotlib\n",
    "import matplotlib.pyplot as plt\n",
    "plt.style.use('ggplot')\n",
    "from matplotlib.pyplot import figure\n",
    "\n",
    "%matplotlib inline\n",
    "matplotlib.rcParams['figure.figsize'] = (12,8) # adjusts the configuration of the plots we will be creating"
   ]
  },
  {
   "cell_type": "code",
   "execution_count": null,
   "id": "913c50a3",
   "metadata": {},
   "outputs": [],
   "source": [
    "# read the masterdata\n",
    "df = pd.read_csv(r'C:\\Users\\minda\\Downloads\\movies_master_data.csv')"
   ]
  },
  {
   "cell_type": "code",
   "execution_count": null,
   "id": "6706dab7",
   "metadata": {},
   "outputs": [],
   "source": [
    "# display a couple first lines in the data\n",
    "# df.head()"
   ]
  },
  {
   "cell_type": "code",
   "execution_count": null,
   "id": "523f0156",
   "metadata": {},
   "outputs": [],
   "source": [
    "# Display all rows mode, no row limit\n",
    "pd.set_option('display.max_rows', None)"
   ]
  },
  {
   "cell_type": "code",
   "execution_count": null,
   "id": "bd305702",
   "metadata": {},
   "outputs": [],
   "source": [
    "# Replacing infinite with nan\n",
    "df.replace([np.inf, -np.inf], np.nan, inplace=True)"
   ]
  },
  {
   "cell_type": "code",
   "execution_count": null,
   "id": "a6406fd9",
   "metadata": {},
   "outputs": [],
   "source": [
    "# Removing all NaN values\n",
    "df.dropna(inplace=True)"
   ]
  },
  {
   "cell_type": "code",
   "execution_count": null,
   "id": "ae354d95",
   "metadata": {},
   "outputs": [],
   "source": [
    "# Displaying the entire table\n",
    "# df"
   ]
  },
  {
   "cell_type": "code",
   "execution_count": null,
   "id": "30cf38d3",
   "metadata": {},
   "outputs": [],
   "source": [
    "# Check for NaN values in Budget amd remove - NOTE - THIS DID NOT WORK - WILL HAVE TO LOOK INTO THIS LATER ON\n",
    "# for index, value in df['budget'].iteritems():\n",
    "#     if (np.isnan(value)):\n",
    "# #         print ('{} - {}'.format(df.iloc[index , [0]].to_string(index=False),value)) # printed the values to see\n",
    "#         df.drop(index) "
   ]
  },
  {
   "cell_type": "code",
   "execution_count": null,
   "id": "1c5a4255",
   "metadata": {},
   "outputs": [],
   "source": [
    "# checking data types of our columns\n",
    "# df.dtypes"
   ]
  },
  {
   "cell_type": "code",
   "execution_count": null,
   "id": "cbbad447",
   "metadata": {},
   "outputs": [],
   "source": [
    "# change data type of the budget and gross column to get rid of trailing zeroes\n",
    "df[\"budget\"] = df[\"budget\"].astype('int64')\n",
    "df[\"gross\"] = df[\"gross\"].astype('int64')"
   ]
  },
  {
   "cell_type": "code",
   "execution_count": null,
   "id": "201e8b00",
   "metadata": {},
   "outputs": [],
   "source": [
    "# Create a column with the Release Date Year\n",
    "\n",
    "release_date_year = []\n",
    "\n",
    "for index, value in df['released'].iteritems():\n",
    "    indexOfComma = value.find(',')\n",
    "    newValueYearOnly = value[indexOfComma+2: indexOfComma+6]\n",
    "    release_date_year.append(newValueYearOnly)\n",
    "    \n",
    "    \n",
    "df['release_date_year'] = release_date_year"
   ]
  },
  {
   "cell_type": "code",
   "execution_count": null,
   "id": "d8288223",
   "metadata": {},
   "outputs": [],
   "source": [
    "# Drop redundant columns after testing\n",
    "# df = df.drop('new_column_years_test', 1)"
   ]
  },
  {
   "cell_type": "code",
   "execution_count": null,
   "id": "424aad63",
   "metadata": {},
   "outputs": [],
   "source": [
    "# Sort the table placing the gross at the top and display the result\n",
    "df = df.sort_values(by=['gross'], inplace=False, ascending=False)"
   ]
  },
  {
   "cell_type": "code",
   "execution_count": null,
   "id": "19b6417c",
   "metadata": {},
   "outputs": [],
   "source": [
    "# The drop_duplicates() function shows distinct values and displays them\n",
    "# df[\"company\"].drop_duplicates().sort_values(ascending=False)"
   ]
  },
  {
   "cell_type": "code",
   "execution_count": null,
   "id": "4c55149f",
   "metadata": {},
   "outputs": [],
   "source": [
    "# Finding what is most correlated to the gross revenue\n",
    "# Hypothesis 1 - Budget having a high correlation on gross\n",
    "# Hypothesis - Company will have a high correlation"
   ]
  },
  {
   "cell_type": "code",
   "execution_count": null,
   "id": "4a412cc4",
   "metadata": {},
   "outputs": [],
   "source": [
    "# Creating a scatter plot for Hypothesis 1\n",
    "plt.scatter(x=df['budget'], y=df['gross'])\n",
    "plt.title('Correlation - Budget and Gross Earnings')\n",
    "plt.xlabel('Budget')\n",
    "plt.ylabel('Gross Earnings')\n",
    "plt.show()"
   ]
  },
  {
   "cell_type": "code",
   "execution_count": null,
   "id": "63bf5b40",
   "metadata": {},
   "outputs": [],
   "source": [
    "# Find regression between Budget and Gross using Seaborn Plot\n",
    "sns.regplot(x='budget', y='gross', data=df, scatter_kws={\"color\": \"red\"}, line_kws={\"color\": \"blue\"})"
   ]
  },
  {
   "cell_type": "code",
   "execution_count": null,
   "id": "e994a992",
   "metadata": {},
   "outputs": [],
   "source": [
    "# Get correlation matrix table for the dataframe\n",
    "df.corr(method='pearson') # METHODS - Pearson, Kendall, Spearman"
   ]
  },
  {
   "cell_type": "code",
   "execution_count": null,
   "id": "1bd768be",
   "metadata": {},
   "outputs": [],
   "source": [
    "# Work with the correlation matrix using Seaborn\n",
    "correlation_matrix = df.corr(method='pearson')\n",
    "sns.heatmap(correlation_matrix, annot=True)\n",
    "plt.title('Correlation Matrix - Numeric Movie Features')\n",
    "plt.xlabel('Movie Features')\n",
    "plt.ylabel('Movie Features')\n",
    "plt.show()"
   ]
  },
  {
   "cell_type": "code",
   "execution_count": null,
   "id": "286a2cb1",
   "metadata": {},
   "outputs": [],
   "source": [
    "# Transform strings into numeric values, transforming into category type\n",
    "df_numerized = df\n",
    "\n",
    "for column_name in df_numerized:\n",
    "    if (df_numerized[column_name].dtype == 'object'):\n",
    "        df_numerized[column_name] = df_numerized[column_name].astype('category')\n",
    "        df_numerized[column_name] = df_numerized[column_name].cat.codes\n",
    "\n",
    "df_numerized"
   ]
  },
  {
   "cell_type": "code",
   "execution_count": null,
   "id": "b818f12c",
   "metadata": {},
   "outputs": [],
   "source": [
    "# Correlation matrix applied on the now fully numeric table\n",
    "correlation_matrix_all_numeric = df_numerized.corr(method='pearson')\n",
    "sns.heatmap(correlation_matrix_all_numeric, annot=True)\n",
    "plt.title('Correlation Matrix - All Numeric Movie Features')\n",
    "plt.xlabel('Movie Features')\n",
    "plt.ylabel('Movie Features')\n",
    "plt.show()"
   ]
  },
  {
   "cell_type": "code",
   "execution_count": null,
   "id": "c3a37675",
   "metadata": {},
   "outputs": [],
   "source": [
    "# Get a correlation stack - a list of correlations instead of the matrix\n",
    "correlation_matrix_all_numeric = df_numerized.corr(method='pearson')\n",
    "corr_list = correlation_matrix_all_numeric.unstack()\n",
    "# Display highest correlation and sort the result from highest to lowest\n",
    "corr_list[(corr_list > 0.6) & (corr_list < 0.97)].sort_values(ascending=False)"
   ]
  },
  {
   "cell_type": "code",
   "execution_count": null,
   "id": "b1c8c4bd",
   "metadata": {},
   "outputs": [],
   "source": [
    "# Conclusion based on actual calculation - Votes and Budget have the highest correlation to gross earnings\n",
    "# Also, company has no correlation to the gross earnings"
   ]
  }
 ],
 "metadata": {
  "kernelspec": {
   "display_name": "Python 3",
   "language": "python",
   "name": "python3"
  },
  "language_info": {
   "codemirror_mode": {
    "name": "ipython",
    "version": 3
   },
   "file_extension": ".py",
   "mimetype": "text/x-python",
   "name": "python",
   "nbconvert_exporter": "python",
   "pygments_lexer": "ipython3",
   "version": "3.8.8"
  }
 },
 "nbformat": 4,
 "nbformat_minor": 5
}
